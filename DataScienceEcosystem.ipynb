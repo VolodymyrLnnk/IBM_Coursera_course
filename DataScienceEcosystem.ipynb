{
  "nbformat": 4,
  "nbformat_minor": 0,
  "metadata": {
    "colab": {
      "provenance": [],
      "authorship_tag": "ABX9TyOyvhNAwzELjFiKrlJT47cE",
      "include_colab_link": true
    },
    "kernelspec": {
      "name": "python3",
      "display_name": "Python 3"
    },
    "language_info": {
      "name": "python"
    }
  },
  "cells": [
    {
      "cell_type": "markdown",
      "metadata": {
        "id": "view-in-github",
        "colab_type": "text"
      },
      "source": [
        "<a href=\"https://colab.research.google.com/github/VolodymyrLnnk/IBM_Coursera_course/blob/main/DataScienceEcosystem.ipynb\" target=\"_parent\"><img src=\"https://colab.research.google.com/assets/colab-badge.svg\" alt=\"Open In Colab\"/></a>"
      ]
    },
    {
      "cell_type": "markdown",
      "source": [
        "#Data Science Tools and Ecosystem\n"
      ],
      "metadata": {
        "id": "pGvopXYnPRYL"
      }
    },
    {
      "cell_type": "markdown",
      "source": [
        "In this notebook, Data Science Tools and Ecosystem are summarized"
      ],
      "metadata": {
        "id": "B9o3oh7CQLgh"
      }
    },
    {
      "cell_type": "markdown",
      "source": [
        "**Objectives:**\n",
        "* Python\n",
        "* R\n",
        "* SQL\n",
        "* Java\n",
        "* Julia\n",
        "* Scala\n",
        "* C/C++\n",
        "* JavaScript\n",
        "* Swift\n",
        "* Go\n",
        "* SAS\n"
      ],
      "metadata": {
        "id": "LAHajyF2VZmn"
      }
    },
    {
      "cell_type": "markdown",
      "source": [
        "Some of the popular languages that Data Scientists use are:"
      ],
      "metadata": {
        "id": "6LQVu3DnQg01"
      }
    },
    {
      "cell_type": "markdown",
      "source": [
        "1. Python\n",
        "2. SQL\n",
        "3. R"
      ],
      "metadata": {
        "id": "WY263F-iQy_n"
      }
    },
    {
      "cell_type": "markdown",
      "source": [
        "Some of the commonly used libraries used by Data Scientists include:"
      ],
      "metadata": {
        "id": "xTeN4JFlRKyB"
      }
    },
    {
      "cell_type": "markdown",
      "source": [
        "1. NumPy\n",
        "2. Matplotlib\n",
        "3. Pandas\n",
        "4. SciPy\n",
        "5. PyTorch\n",
        "6. Seaborn\n",
        "7. TensorFlow"
      ],
      "metadata": {
        "id": "5aCZFCWrRS8a"
      }
    },
    {
      "cell_type": "markdown",
      "source": [
        "|**Data Science Tools**|\n",
        "|------|\n",
        "|Tableau|\n",
        "|Jupiter|\n",
        "|Apache Spark|"
      ],
      "metadata": {
        "id": "PfoAg-u7SNFO"
      }
    },
    {
      "cell_type": "markdown",
      "source": [
        "###Below are a few examples of evaluating arithmetic expressions in Python"
      ],
      "metadata": {
        "id": "5UULBzCKTAmX"
      }
    },
    {
      "cell_type": "code",
      "source": [
        "#This a simple arithmetic expression to mutiply then add integers\n",
        "(3*4)+5"
      ],
      "metadata": {
        "colab": {
          "base_uri": "https://localhost:8080/"
        },
        "id": "a4O6apZATVF1",
        "outputId": "8294b6e4-572d-450d-b2c9-eabc6fde365f"
      },
      "execution_count": 1,
      "outputs": [
        {
          "output_type": "execute_result",
          "data": {
            "text/plain": [
              "17"
            ]
          },
          "metadata": {},
          "execution_count": 1
        }
      ]
    },
    {
      "cell_type": "code",
      "source": [
        "#This will convert 200 minutes to hours by diving by 60\n",
        "200/60"
      ],
      "metadata": {
        "colab": {
          "base_uri": "https://localhost:8080/"
        },
        "id": "UcGAqAuYTatl",
        "outputId": "c92960a2-7017-4b43-d71a-fcf6bb14d0b7"
      },
      "execution_count": 2,
      "outputs": [
        {
          "output_type": "execute_result",
          "data": {
            "text/plain": [
              "3.3333333333333335"
            ]
          },
          "metadata": {},
          "execution_count": 2
        }
      ]
    },
    {
      "cell_type": "markdown",
      "source": [
        "##Author\n",
        "VL"
      ],
      "metadata": {
        "id": "WUumbVMjW5FR"
      }
    }
  ]
}